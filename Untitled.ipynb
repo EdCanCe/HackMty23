{
 "cells": [
  {
   "cell_type": "code",
   "execution_count": 165,
   "id": "180741b4-9f11-4c90-83c5-3ff31c6e98cb",
   "metadata": {},
   "outputs": [],
   "source": [
    "import pandas as pd\n",
    "import numpy as np\n",
    "import matplotlib.pyplot as plt\n",
    "\n",
    "from sklearn import preprocessing\n",
    "from mpl_toolkits.mplot3d import Axes3D\n",
    "from sklearn.cluster import KMeans"
   ]
  },
  {
   "cell_type": "code",
   "execution_count": 166,
   "id": "23241f56-5c8f-4bad-99ff-b62ccd45d021",
   "metadata": {},
   "outputs": [],
   "source": [
    "le = preprocessing.LabelEncoder()        "
   ]
  },
  {
   "cell_type": "code",
   "execution_count": 167,
   "id": "edc3d0a9-7fd5-4201-b4b9-433efee7c19b",
   "metadata": {},
   "outputs": [],
   "source": [
    "data = pd.read_excel(\"copynew.xlsx\")"
   ]
  },
  {
   "cell_type": "code",
   "execution_count": 168,
   "id": "9c96f734-f4f6-487c-8e31-b9939f7f5245",
   "metadata": {},
   "outputs": [],
   "source": [
    "data_clean = data[[\"usertime\", \"userisk\", \"usermensual\", \"invemensual\", \"inveanual\", \"metainver\", \"necesidad\", \"gustos\"]]"
   ]
  },
  {
   "cell_type": "code",
   "execution_count": 169,
   "id": "3618be38-239c-4927-8ea8-1c5965ed9ca5",
   "metadata": {},
   "outputs": [
    {
     "data": {
      "text/html": [
       "<div>\n",
       "<style scoped>\n",
       "    .dataframe tbody tr th:only-of-type {\n",
       "        vertical-align: middle;\n",
       "    }\n",
       "\n",
       "    .dataframe tbody tr th {\n",
       "        vertical-align: top;\n",
       "    }\n",
       "\n",
       "    .dataframe thead th {\n",
       "        text-align: right;\n",
       "    }\n",
       "</style>\n",
       "<table border=\"1\" class=\"dataframe\">\n",
       "  <thead>\n",
       "    <tr style=\"text-align: right;\">\n",
       "      <th></th>\n",
       "      <th>usertime</th>\n",
       "      <th>userisk</th>\n",
       "      <th>usermensual</th>\n",
       "      <th>invemensual</th>\n",
       "      <th>inveanual</th>\n",
       "      <th>metainver</th>\n",
       "      <th>necesidad</th>\n",
       "      <th>gustos</th>\n",
       "    </tr>\n",
       "  </thead>\n",
       "  <tbody>\n",
       "    <tr>\n",
       "      <th>0</th>\n",
       "      <td>Mediano plazo (3-5 años)</td>\n",
       "      <td>Bajo</td>\n",
       "      <td>1000.00</td>\n",
       "      <td>200.00</td>\n",
       "      <td>2000.00</td>\n",
       "      <td>['Vacaciones', 'Coche']</td>\n",
       "      <td>5700.0</td>\n",
       "      <td>800.0</td>\n",
       "    </tr>\n",
       "    <tr>\n",
       "      <th>1</th>\n",
       "      <td>Largo plazo (más de 5 años)</td>\n",
       "      <td>Alto</td>\n",
       "      <td>2589.99</td>\n",
       "      <td>420.00</td>\n",
       "      <td>10000.00</td>\n",
       "      <td>['Fondos de emergencia']</td>\n",
       "      <td>7000.0</td>\n",
       "      <td>4000.0</td>\n",
       "    </tr>\n",
       "    <tr>\n",
       "      <th>2</th>\n",
       "      <td>Corto plazo (1-3 años)</td>\n",
       "      <td>Bajo</td>\n",
       "      <td>50000.00</td>\n",
       "      <td>15000.00</td>\n",
       "      <td>40000.00</td>\n",
       "      <td>['Educación de sus hijos', 'Vacaciones']</td>\n",
       "      <td>15000.0</td>\n",
       "      <td>15000.0</td>\n",
       "    </tr>\n",
       "    <tr>\n",
       "      <th>3</th>\n",
       "      <td>Largo plazo (más de 5 años)</td>\n",
       "      <td>Alto</td>\n",
       "      <td>8000.00</td>\n",
       "      <td>400.00</td>\n",
       "      <td>4800.00</td>\n",
       "      <td>['Deudas', 'Fondos de emergencia', 'Vacaciones']</td>\n",
       "      <td>3500.0</td>\n",
       "      <td>4000.0</td>\n",
       "    </tr>\n",
       "    <tr>\n",
       "      <th>4</th>\n",
       "      <td>Mediano plazo (3-5 años)</td>\n",
       "      <td>Alto</td>\n",
       "      <td>35000.00</td>\n",
       "      <td>12000.00</td>\n",
       "      <td>29098.99</td>\n",
       "      <td>['Casa', 'Coche', 'Deudas']</td>\n",
       "      <td>4500.0</td>\n",
       "      <td>15000.0</td>\n",
       "    </tr>\n",
       "    <tr>\n",
       "      <th>5</th>\n",
       "      <td>Mediano plazo (3-5 años)</td>\n",
       "      <td>Bajo</td>\n",
       "      <td>25400.00</td>\n",
       "      <td>4000.00</td>\n",
       "      <td>3000.00</td>\n",
       "      <td>['Deudas']</td>\n",
       "      <td>4000.0</td>\n",
       "      <td>3760.0</td>\n",
       "    </tr>\n",
       "    <tr>\n",
       "      <th>6</th>\n",
       "      <td>Corto plazo (1-3 años)</td>\n",
       "      <td>Medio</td>\n",
       "      <td>25000.00</td>\n",
       "      <td>4000.00</td>\n",
       "      <td>7888.00</td>\n",
       "      <td>['Vacaciones', 'Fondos de emergencia']</td>\n",
       "      <td>5100.0</td>\n",
       "      <td>7800.0</td>\n",
       "    </tr>\n",
       "    <tr>\n",
       "      <th>7</th>\n",
       "      <td>Largo plazo (más de 5 años)</td>\n",
       "      <td>Alto</td>\n",
       "      <td>43000.00</td>\n",
       "      <td>21999.98</td>\n",
       "      <td>3399.98</td>\n",
       "      <td>['Fondos de emergencia']</td>\n",
       "      <td>8500.0</td>\n",
       "      <td>35900.0</td>\n",
       "    </tr>\n",
       "    <tr>\n",
       "      <th>8</th>\n",
       "      <td>Largo plazo (más de 5 años)</td>\n",
       "      <td>Alto</td>\n",
       "      <td>78000.00</td>\n",
       "      <td>6588.00</td>\n",
       "      <td>6570.00</td>\n",
       "      <td>['Casa']</td>\n",
       "      <td>5400.0</td>\n",
       "      <td>6000.0</td>\n",
       "    </tr>\n",
       "    <tr>\n",
       "      <th>9</th>\n",
       "      <td>Corto plazo (1-3 años)</td>\n",
       "      <td>bajo</td>\n",
       "      <td>15000.00</td>\n",
       "      <td>4500.00</td>\n",
       "      <td>8200.00</td>\n",
       "      <td>['Educación de sus hijos', 'Vacaciones']</td>\n",
       "      <td>4720.0</td>\n",
       "      <td>4030.0</td>\n",
       "    </tr>\n",
       "    <tr>\n",
       "      <th>10</th>\n",
       "      <td>Largo plazo (más de 5 años)</td>\n",
       "      <td>Alto</td>\n",
       "      <td>70000.00</td>\n",
       "      <td>30000.00</td>\n",
       "      <td>23000.00</td>\n",
       "      <td>['Deudas','Casa']</td>\n",
       "      <td>8000.0</td>\n",
       "      <td>13000.0</td>\n",
       "    </tr>\n",
       "    <tr>\n",
       "      <th>11</th>\n",
       "      <td>Corto plazo (1-3 años)</td>\n",
       "      <td>Medio</td>\n",
       "      <td>10000.00</td>\n",
       "      <td>2340.00</td>\n",
       "      <td>7082.00</td>\n",
       "      <td>['Fondos de emergencia']</td>\n",
       "      <td>2890.0</td>\n",
       "      <td>1500.0</td>\n",
       "    </tr>\n",
       "    <tr>\n",
       "      <th>12</th>\n",
       "      <td>Mediano plazo (3-5 años)</td>\n",
       "      <td>Bajo</td>\n",
       "      <td>9921.00</td>\n",
       "      <td>2130.00</td>\n",
       "      <td>6709.00</td>\n",
       "      <td>['Vacaciones']</td>\n",
       "      <td>4080.0</td>\n",
       "      <td>3020.0</td>\n",
       "    </tr>\n",
       "    <tr>\n",
       "      <th>13</th>\n",
       "      <td>NaN</td>\n",
       "      <td>NaN</td>\n",
       "      <td>NaN</td>\n",
       "      <td>NaN</td>\n",
       "      <td>NaN</td>\n",
       "      <td>NaN</td>\n",
       "      <td>NaN</td>\n",
       "      <td>NaN</td>\n",
       "    </tr>\n",
       "  </tbody>\n",
       "</table>\n",
       "</div>"
      ],
      "text/plain": [
       "                       usertime userisk  usermensual  invemensual  inveanual  \\\n",
       "0      Mediano plazo (3-5 años)    Bajo      1000.00       200.00    2000.00   \n",
       "1   Largo plazo (más de 5 años)    Alto      2589.99       420.00   10000.00   \n",
       "2        Corto plazo (1-3 años)    Bajo     50000.00     15000.00   40000.00   \n",
       "3   Largo plazo (más de 5 años)    Alto      8000.00       400.00    4800.00   \n",
       "4      Mediano plazo (3-5 años)    Alto     35000.00     12000.00   29098.99   \n",
       "5      Mediano plazo (3-5 años)    Bajo     25400.00      4000.00    3000.00   \n",
       "6        Corto plazo (1-3 años)   Medio     25000.00      4000.00    7888.00   \n",
       "7   Largo plazo (más de 5 años)    Alto     43000.00     21999.98    3399.98   \n",
       "8   Largo plazo (más de 5 años)    Alto     78000.00      6588.00    6570.00   \n",
       "9        Corto plazo (1-3 años)    bajo     15000.00      4500.00    8200.00   \n",
       "10  Largo plazo (más de 5 años)    Alto     70000.00     30000.00   23000.00   \n",
       "11       Corto plazo (1-3 años)   Medio     10000.00      2340.00    7082.00   \n",
       "12     Mediano plazo (3-5 años)    Bajo      9921.00      2130.00    6709.00   \n",
       "13                          NaN     NaN          NaN          NaN        NaN   \n",
       "\n",
       "                                           metainver  necesidad   gustos  \n",
       "0                            ['Vacaciones', 'Coche']     5700.0    800.0  \n",
       "1                           ['Fondos de emergencia']     7000.0   4000.0  \n",
       "2           ['Educación de sus hijos', 'Vacaciones']    15000.0  15000.0  \n",
       "3   ['Deudas', 'Fondos de emergencia', 'Vacaciones']     3500.0   4000.0  \n",
       "4                        ['Casa', 'Coche', 'Deudas']     4500.0  15000.0  \n",
       "5                                         ['Deudas']     4000.0   3760.0  \n",
       "6             ['Vacaciones', 'Fondos de emergencia']     5100.0   7800.0  \n",
       "7                           ['Fondos de emergencia']     8500.0  35900.0  \n",
       "8                                           ['Casa']     5400.0   6000.0  \n",
       "9           ['Educación de sus hijos', 'Vacaciones']     4720.0   4030.0  \n",
       "10                                 ['Deudas','Casa']     8000.0  13000.0  \n",
       "11                          ['Fondos de emergencia']     2890.0   1500.0  \n",
       "12                                    ['Vacaciones']     4080.0   3020.0  \n",
       "13                                               NaN        NaN      NaN  "
      ]
     },
     "execution_count": 169,
     "metadata": {},
     "output_type": "execute_result"
    }
   ],
   "source": [
    "data_clean"
   ]
  },
  {
   "cell_type": "code",
   "execution_count": 170,
   "id": "3888d941-a372-43d9-b721-264b1aa43b4b",
   "metadata": {},
   "outputs": [],
   "source": [
    "data_clean = data_clean.drop(13, axis=0)"
   ]
  },
  {
   "cell_type": "code",
   "execution_count": 171,
   "id": "9c8d5709-5669-4841-8ad6-b299606d20bc",
   "metadata": {},
   "outputs": [
    {
     "data": {
      "text/plain": [
       "\"['Fondos de emergencia']\""
      ]
     },
     "execution_count": 171,
     "metadata": {},
     "output_type": "execute_result"
    }
   ],
   "source": [
    "data_clean[\"metainver\"][1]"
   ]
  },
  {
   "cell_type": "code",
   "execution_count": 172,
   "id": "bfe9bbe1-fe33-4aeb-8696-eae537d97a9d",
   "metadata": {},
   "outputs": [],
   "source": [
    "data_clean['usertime']= le.fit_transform(data_clean[\"usertime\"])\n",
    "data_clean['userisk']= le.fit_transform(data_clean[\"usertime\"])"
   ]
  },
  {
   "cell_type": "code",
   "execution_count": 173,
   "id": "a804a320-0ca7-4cfe-8651-4748607461ca",
   "metadata": {},
   "outputs": [
    {
     "name": "stderr",
     "output_type": "stream",
     "text": [
      "/tmp/ipykernel_6850/2428570386.py:5: SettingWithCopyWarning: \n",
      "A value is trying to be set on a copy of a slice from a DataFrame\n",
      "\n",
      "See the caveats in the documentation: https://pandas.pydata.org/pandas-docs/stable/user_guide/indexing.html#returning-a-view-versus-a-copy\n",
      "  data_clean[\"metainver\"][n] = aux.split(\", \")\n"
     ]
    }
   ],
   "source": [
    "n = 0\n",
    "for i in data_clean[\"metainver\"]:\n",
    "    \n",
    "    aux = \"\".join(i[1:-2].split(\"'\"))\n",
    "    data_clean[\"metainver\"][n] = aux.split(\", \")\n",
    "    n+=1"
   ]
  },
  {
   "cell_type": "code",
   "execution_count": 174,
   "id": "c56af43e-9b81-4e30-8f11-c925c83397a8",
   "metadata": {},
   "outputs": [
    {
     "name": "stderr",
     "output_type": "stream",
     "text": [
      "/tmp/ipykernel_6850/1122627903.py:3: SettingWithCopyWarning: \n",
      "A value is trying to be set on a copy of a slice from a DataFrame\n",
      "\n",
      "See the caveats in the documentation: https://pandas.pydata.org/pandas-docs/stable/user_guide/indexing.html#returning-a-view-versus-a-copy\n",
      "  data_clean[\"metainver\"][n] = len(j)\n"
     ]
    }
   ],
   "source": [
    "n = 0\n",
    "for j in data_clean[\"metainver\"]:\n",
    "    data_clean[\"metainver\"][n] = len(j)\n",
    "    n+=1"
   ]
  },
  {
   "cell_type": "code",
   "execution_count": 175,
   "id": "e0e87714-f360-4fbe-8e8a-d3a53abe5cdf",
   "metadata": {},
   "outputs": [
    {
     "name": "stderr",
     "output_type": "stream",
     "text": [
      "/usr/lib/python3.11/site-packages/sklearn/cluster/_kmeans.py:1412: FutureWarning: The default value of `n_init` will change from 10 to 'auto' in 1.4. Set the value of `n_init` explicitly to suppress the warning\n",
      "  super()._check_params_vs_input(X, default_n_init=10)\n"
     ]
    },
    {
     "data": {
      "text/html": [
       "<style>#sk-container-id-5 {color: black;}#sk-container-id-5 pre{padding: 0;}#sk-container-id-5 div.sk-toggleable {background-color: white;}#sk-container-id-5 label.sk-toggleable__label {cursor: pointer;display: block;width: 100%;margin-bottom: 0;padding: 0.3em;box-sizing: border-box;text-align: center;}#sk-container-id-5 label.sk-toggleable__label-arrow:before {content: \"▸\";float: left;margin-right: 0.25em;color: #696969;}#sk-container-id-5 label.sk-toggleable__label-arrow:hover:before {color: black;}#sk-container-id-5 div.sk-estimator:hover label.sk-toggleable__label-arrow:before {color: black;}#sk-container-id-5 div.sk-toggleable__content {max-height: 0;max-width: 0;overflow: hidden;text-align: left;background-color: #f0f8ff;}#sk-container-id-5 div.sk-toggleable__content pre {margin: 0.2em;color: black;border-radius: 0.25em;background-color: #f0f8ff;}#sk-container-id-5 input.sk-toggleable__control:checked~div.sk-toggleable__content {max-height: 200px;max-width: 100%;overflow: auto;}#sk-container-id-5 input.sk-toggleable__control:checked~label.sk-toggleable__label-arrow:before {content: \"▾\";}#sk-container-id-5 div.sk-estimator input.sk-toggleable__control:checked~label.sk-toggleable__label {background-color: #d4ebff;}#sk-container-id-5 div.sk-label input.sk-toggleable__control:checked~label.sk-toggleable__label {background-color: #d4ebff;}#sk-container-id-5 input.sk-hidden--visually {border: 0;clip: rect(1px 1px 1px 1px);clip: rect(1px, 1px, 1px, 1px);height: 1px;margin: -1px;overflow: hidden;padding: 0;position: absolute;width: 1px;}#sk-container-id-5 div.sk-estimator {font-family: monospace;background-color: #f0f8ff;border: 1px dotted black;border-radius: 0.25em;box-sizing: border-box;margin-bottom: 0.5em;}#sk-container-id-5 div.sk-estimator:hover {background-color: #d4ebff;}#sk-container-id-5 div.sk-parallel-item::after {content: \"\";width: 100%;border-bottom: 1px solid gray;flex-grow: 1;}#sk-container-id-5 div.sk-label:hover label.sk-toggleable__label {background-color: #d4ebff;}#sk-container-id-5 div.sk-serial::before {content: \"\";position: absolute;border-left: 1px solid gray;box-sizing: border-box;top: 0;bottom: 0;left: 50%;z-index: 0;}#sk-container-id-5 div.sk-serial {display: flex;flex-direction: column;align-items: center;background-color: white;padding-right: 0.2em;padding-left: 0.2em;position: relative;}#sk-container-id-5 div.sk-item {position: relative;z-index: 1;}#sk-container-id-5 div.sk-parallel {display: flex;align-items: stretch;justify-content: center;background-color: white;position: relative;}#sk-container-id-5 div.sk-item::before, #sk-container-id-5 div.sk-parallel-item::before {content: \"\";position: absolute;border-left: 1px solid gray;box-sizing: border-box;top: 0;bottom: 0;left: 50%;z-index: -1;}#sk-container-id-5 div.sk-parallel-item {display: flex;flex-direction: column;z-index: 1;position: relative;background-color: white;}#sk-container-id-5 div.sk-parallel-item:first-child::after {align-self: flex-end;width: 50%;}#sk-container-id-5 div.sk-parallel-item:last-child::after {align-self: flex-start;width: 50%;}#sk-container-id-5 div.sk-parallel-item:only-child::after {width: 0;}#sk-container-id-5 div.sk-dashed-wrapped {border: 1px dashed gray;margin: 0 0.4em 0.5em 0.4em;box-sizing: border-box;padding-bottom: 0.4em;background-color: white;}#sk-container-id-5 div.sk-label label {font-family: monospace;font-weight: bold;display: inline-block;line-height: 1.2em;}#sk-container-id-5 div.sk-label-container {text-align: center;}#sk-container-id-5 div.sk-container {/* jupyter's `normalize.less` sets `[hidden] { display: none; }` but bootstrap.min.css set `[hidden] { display: none !important; }` so we also need the `!important` here to be able to override the default hidden behavior on the sphinx rendered scikit-learn.org. See: https://github.com/scikit-learn/scikit-learn/issues/21755 */display: inline-block !important;position: relative;}#sk-container-id-5 div.sk-text-repr-fallback {display: none;}</style><div id=\"sk-container-id-5\" class=\"sk-top-container\"><div class=\"sk-text-repr-fallback\"><pre>KMeans(max_iter=100, n_clusters=3)</pre><b>In a Jupyter environment, please rerun this cell to show the HTML representation or trust the notebook. <br />On GitHub, the HTML representation is unable to render, please try loading this page with nbviewer.org.</b></div><div class=\"sk-container\" hidden><div class=\"sk-item\"><div class=\"sk-estimator sk-toggleable\"><input class=\"sk-toggleable__control sk-hidden--visually\" id=\"sk-estimator-id-5\" type=\"checkbox\" checked><label for=\"sk-estimator-id-5\" class=\"sk-toggleable__label sk-toggleable__label-arrow\">KMeans</label><div class=\"sk-toggleable__content\"><pre>KMeans(max_iter=100, n_clusters=3)</pre></div></div></div></div></div>"
      ],
      "text/plain": [
       "KMeans(max_iter=100, n_clusters=3)"
      ]
     },
     "execution_count": 175,
     "metadata": {},
     "output_type": "execute_result"
    }
   ],
   "source": [
    "modelo = KMeans(n_clusters = 3, max_iter = 100)\n",
    "modelo.fit(data_clean)"
   ]
  },
  {
   "cell_type": "code",
   "execution_count": 176,
   "id": "b9efa7b6-a47c-4ef9-9f5a-210f0d8ea958",
   "metadata": {},
   "outputs": [],
   "source": [
    "data_clean[\"class\"] = modelo.labels_"
   ]
  },
  {
   "cell_type": "code",
   "execution_count": 177,
   "id": "b3fa39ce-eabd-42ff-8e44-53422f4c0227",
   "metadata": {},
   "outputs": [],
   "source": [
    "Y = np.array(data_clean[\"class\"])\n",
    "X = np.array(data_clean.drop(\"class\", axis = 1 ))"
   ]
  },
  {
   "cell_type": "code",
   "execution_count": null,
   "id": "c0212e4d-dca5-437b-a7e4-2a591161acb7",
   "metadata": {},
   "outputs": [],
   "source": []
  },
  {
   "cell_type": "code",
   "execution_count": 186,
   "id": "3d310fc1-ccbe-4992-b33e-b23ca169cfcd",
   "metadata": {},
   "outputs": [
    {
     "data": {
      "text/plain": [
       "<matplotlib.collections.PathCollection at 0x7f0b12905d50>"
      ]
     },
     "execution_count": 186,
     "metadata": {},
     "output_type": "execute_result"
    },
    {
     "data": {
      "image/png": "[encoded data removed]",
      "text/plain": [
       "<Figure size 640x480 with 1 Axes>"
      ]
     },
     "metadata": {},
     "output_type": "display_data"
    }
   ],
   "source": [
    "colores = [0, 1, 2]\n",
    "aux = []\n",
    "for fila in data_clean[\"class\"]:\n",
    "    aux.append(colores[fila])\n",
    "    \n",
    "\n",
    "plt.scatter(data_clean[\"userisk\"], data_clean[\"invemensual\"],c = aux)"
   ]
  }
 ],
 "metadata": {
  "kernelspec": {
   "display_name": "Python 3 (ipykernel)",
   "language": "python",
   "name": "python3"
  },
  "language_info": {
   "codemirror_mode": {
    "name": "ipython",
    "version": 3
   },
   "file_extension": ".py",
   "mimetype": "text/x-python",
   "name": "python",
   "nbconvert_exporter": "python",
   "pygments_lexer": "ipython3",
   "version": "3.11.5"
  }
 },
 "nbformat": 4,
 "nbformat_minor": 5
}
